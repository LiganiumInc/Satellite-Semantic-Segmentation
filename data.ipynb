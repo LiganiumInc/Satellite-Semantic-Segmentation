{
 "cells": [
  {
   "cell_type": "code",
   "execution_count": 1,
   "metadata": {},
   "outputs": [],
   "source": [
    "import os\n",
    "import torch\n",
    "from config import data_config\n",
    "\n",
    "from src.utils import generate_patches, split_train_val_test\n",
    "from src.datafactory import SatelliteDataset"
   ]
  },
  {
   "cell_type": "code",
   "execution_count": 2,
   "metadata": {},
   "outputs": [],
   "source": [
    "# Setup data configs\n",
    "data_config = data_config.data_config()"
   ]
  },
  {
   "cell_type": "code",
   "execution_count": 3,
   "metadata": {},
   "outputs": [],
   "source": [
    "# Create directories\n",
    "    \n",
    "isExist = os.path.exists(data_config.PATCHES_DATA_PATH)\n",
    "if not isExist:\n",
    "    os.makedirs(data_config.PATCHES_DATA_PATH)\n",
    "    \n",
    "isExist = os.path.exists(data_config.TRAIN_DATA_PATH)\n",
    "if not isExist:\n",
    "    os.makedirs(data_config.TRAIN_DATA_PATH)\n",
    " \n",
    "isExist = os.path.exists(data_config.VAL_DATA_PATH)\n",
    "if not isExist:\n",
    "    os.makedirs(data_config.VAL_DATA_PATH)\n",
    "       \n",
    "isExist = os.path.exists(data_config.TEST_DATA_PATH)\n",
    "if not isExist:\n",
    "    os.makedirs(data_config.TEST_DATA_PATH)"
   ]
  },
  {
   "cell_type": "code",
   "execution_count": 4,
   "metadata": {},
   "outputs": [
    {
     "name": "stdout",
     "output_type": "stream",
     "text": [
      "72\n"
     ]
    }
   ],
   "source": [
    "# Create the base dataset\n",
    "base_dataset = SatelliteDataset(root=data_config.RAW_DATA_PATH)\n",
    "\n",
    "print(len(base_dataset))"
   ]
  },
  {
   "cell_type": "markdown",
   "metadata": {},
   "source": [
    "### Patchify the dataset"
   ]
  },
  {
   "cell_type": "code",
   "execution_count": 5,
   "metadata": {},
   "outputs": [
    {
     "name": "stdout",
     "output_type": "stream",
     "text": [
      "(1305, 256, 256, 3) (1305, 256, 256)\n"
     ]
    }
   ],
   "source": [
    "patches_images, patches_masks = generate_patches(base_dataset, data_config.PATCH_SIZE)\n",
    "print(patches_images.shape, patches_masks.shape)"
   ]
  },
  {
   "cell_type": "markdown",
   "metadata": {},
   "source": [
    "### Save patches data"
   ]
  },
  {
   "cell_type": "code",
   "execution_count": 6,
   "metadata": {},
   "outputs": [],
   "source": [
    "torch.save(patches_images, data_config.PATCHES_DATA_PATH + 'patches_images.pt')\n",
    "torch.save(patches_masks, data_config.PATCHES_DATA_PATH + 'patches_masks.pt')"
   ]
  },
  {
   "cell_type": "markdown",
   "metadata": {},
   "source": [
    "### Split Data"
   ]
  },
  {
   "cell_type": "code",
   "execution_count": 7,
   "metadata": {},
   "outputs": [
    {
     "data": {
      "text/plain": [
       "((913, 256, 256, 3),\n",
       " (261, 256, 256, 3),\n",
       " (131, 256, 256, 3),\n",
       " (913, 256, 256),\n",
       " (261, 256, 256),\n",
       " (131, 256, 256))"
      ]
     },
     "execution_count": 7,
     "metadata": {},
     "output_type": "execute_result"
    }
   ],
   "source": [
    "Xtrain_patches, Xval_patches, \\\n",
    "    Xtest_patches, ytrain_patches,\\\n",
    "        yval_patches, ytest_patches = split_train_val_test(X = patches_images, \n",
    "                                                            y = patches_masks, \n",
    "                                                            test_size=data_config.TEST_SIZE, \n",
    "                                                            val_size=data_config.VAL_SIZE, \n",
    "                                                            random_state= data_config.RANDOM_STATE)\n",
    "\n",
    "Xtrain_patches.shape, Xval_patches.shape, Xtest_patches.shape, ytrain_patches.shape, yval_patches.shape, ytest_patches.shape"
   ]
  },
  {
   "cell_type": "markdown",
   "metadata": {},
   "source": [
    "### Save Splited Data"
   ]
  },
  {
   "cell_type": "code",
   "execution_count": 9,
   "metadata": {},
   "outputs": [],
   "source": [
    "torch.save(Xtrain_patches, data_config.TRAIN_DATA_PATH + 'Xtrain_patches.pt')\n",
    "torch.save(ytrain_patches, data_config.TRAIN_DATA_PATH + 'ytrain_patches.pt')\n",
    "\n",
    "\n",
    "torch.save(Xval_patches, data_config.VAL_DATA_PATH + 'Xval_patches.pt')\n",
    "torch.save(yval_patches, data_config.VAL_DATA_PATH + 'yval_patches.pt')\n",
    "\n",
    "torch.save(Xtest_patches, data_config.TEST_DATA_PATH + 'Xtest_patches.pt')\n",
    "torch.save(ytest_patches, data_config.TEST_DATA_PATH + 'ytest_patches.pt')"
   ]
  },
  {
   "cell_type": "markdown",
   "metadata": {},
   "source": []
  }
 ],
 "metadata": {
  "kernelspec": {
   "display_name": "env",
   "language": "python",
   "name": "python3"
  },
  "language_info": {
   "codemirror_mode": {
    "name": "ipython",
    "version": 3
   },
   "file_extension": ".py",
   "mimetype": "text/x-python",
   "name": "python",
   "nbconvert_exporter": "python",
   "pygments_lexer": "ipython3",
   "version": "3.11.5"
  }
 },
 "nbformat": 4,
 "nbformat_minor": 2
}
